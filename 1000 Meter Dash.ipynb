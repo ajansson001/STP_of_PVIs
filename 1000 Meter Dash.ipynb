{
 "cells": [
  {
   "cell_type": "code",
   "execution_count": 1,
   "id": "50af6077",
   "metadata": {},
   "outputs": [],
   "source": [
    "import os"
   ]
  },
  {
   "cell_type": "code",
   "execution_count": 2,
   "id": "8886d29c",
   "metadata": {
    "scrolled": false
   },
   "outputs": [
    {
     "data": {
      "text/plain": [
       "['01-02',\n",
       " '01-03',\n",
       " '02-01',\n",
       " '02-02',\n",
       " '03-02',\n",
       " '03-03',\n",
       " '04-01',\n",
       " '04-02',\n",
       " '04-03',\n",
       " '05-01',\n",
       " '05-02',\n",
       " '05-03',\n",
       " '06-01',\n",
       " '06-03',\n",
       " '07-01',\n",
       " '07-02',\n",
       " '07-03',\n",
       " '08-01',\n",
       " '08-02']"
      ]
     },
     "execution_count": 2,
     "metadata": {},
     "output_type": "execute_result"
    }
   ],
   "source": [
    "#define directory\n",
    "directory=\"P://Anna - Workup/Step 1 - ROI ID/2023-07-09\"\n",
    "os.listdir(directory)"
   ]
  },
  {
   "cell_type": "code",
   "execution_count": 5,
   "id": "bb23bae2",
   "metadata": {},
   "outputs": [
    {
     "name": "stdout",
     "output_type": "stream",
     "text": [
      "['06-01-01_amp.txt', '06-01-01_preStim.txt', '06-01-01_snr.txt', '06-01-02_amp.txt', '06-01-02_preStim.txt', '06-01-02_snr.txt', '06-01-03_amp.txt', '06-01-03_preStim.txt', '06-01-03_snr.txt', 'barrels.dat', 'Electrode.dat', 'Electrode_calc_dist.dat', 'layers.dat']\n"
     ]
    }
   ],
   "source": [
    "#define sub-directory\n",
    "sub_directory_name = '06-01'\n",
    "sub_directory = directory +'/'+ sub_directory_name + '/'\n",
    "##sub_directory = directory + sub_directory_name +'/'\n",
    "print(os.listdir(sub_directory))\n",
    "file_list = os.listdir(sub_directory)"
   ]
  },
  {
   "cell_type": "code",
   "execution_count": null,
   "id": "c75831de",
   "metadata": {},
   "outputs": [],
   "source": [
    "# itterate through all the files \n",
    "for file in file_list:\n",
    "    if 'amp' in file:#name includes 'amp' in file_list:\n",
    "        fo = open(sub_directory+file, 'r')# read in all the the amp files, seperately \n",
    "        file_lines = fo.readlines()\n",
    "        fo.close()\n",
    "        dst = sub_directory+file.replace(\"amp\", \"uncormax\")\n",
    "        os.rename(sub_directory+file, dst) # renames old file to keep away from new (archive files)\n",
    "        amp_values_list = [] #create empty amp values list \n",
    "        for line in file_lines:\n",
    "            amp_values = line.split('\\t')[1]# identify the second column of the set as the paramenter of interest\n",
    "            amp_values = float(amp_values)\n",
    "            amp_values = amp_values/1000# divide the second column by 1000 \n",
    "            amp_values_list.append(amp_values)# place corrected amp values in the list  \n",
    "        fo = open(sub_directory+file, 'w')\n",
    "        for i in range(len(amp_values_list)):\n",
    "            fo.write(str(i+1)+'\\t'+str(amp_values_list[i])[:10]+'\\n')# replace the old amp file with the new amp file\n",
    "        fo.close()\n"
   ]
  },
  {
   "cell_type": "code",
   "execution_count": null,
   "id": "b8f84def",
   "metadata": {},
   "outputs": [],
   "source": []
  }
 ],
 "metadata": {
  "kernelspec": {
   "display_name": "Python 3 (ipykernel)",
   "language": "python",
   "name": "python3"
  },
  "language_info": {
   "codemirror_mode": {
    "name": "ipython",
    "version": 3
   },
   "file_extension": ".py",
   "mimetype": "text/x-python",
   "name": "python",
   "nbconvert_exporter": "python",
   "pygments_lexer": "ipython3",
   "version": "3.10.4"
  }
 },
 "nbformat": 4,
 "nbformat_minor": 5
}
