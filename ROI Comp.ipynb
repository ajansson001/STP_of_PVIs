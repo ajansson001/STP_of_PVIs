{
 "cells": [
  {
   "cell_type": "code",
   "execution_count": 187,
   "id": "2726db4c",
   "metadata": {},
   "outputs": [],
   "source": [
    "import os"
   ]
  },
  {
   "cell_type": "code",
   "execution_count": 188,
   "id": "b8d4fac8",
   "metadata": {
    "scrolled": false
   },
   "outputs": [
    {
     "data": {
      "text/plain": [
       "['Amp_04-02-03_ROIs01to100.txt',\n",
       " 'Amp_04-02-03_ROIs101to166.txt',\n",
       " 'Decay_04-02-03_ROIs01to100.txt',\n",
       " 'Decay_04-02-03_ROIs101to166.txt',\n",
       " 'Halfwidth_04-02-03_ROIs01to100.txt',\n",
       " 'Halfwidth_04-02-03_ROIs101to166.txt',\n",
       " 'Latency_04-02-03_ROIs01to100.txt',\n",
       " 'Latency_04-02-03_ROIs101to166.txt',\n",
       " 'PeakTime_04-02-03_ROIs01to100.txt',\n",
       " 'PeakTime_04-02-03_ROIs101to166.txt',\n",
       " 'Rise_04-02-03_ROIs01to100.txt',\n",
       " 'Rise_04-02-03_ROIs101to166.txt',\n",
       " 'SNR_04-02-03_ROIs01to100.txt',\n",
       " 'SNR_04-02-03_ROIs101to166.txt']"
      ]
     },
     "execution_count": 188,
     "metadata": {},
     "output_type": "execute_result"
    }
   ],
   "source": [
    "#define directory\n",
    "directory=\"P:/Anna - Workup/Step 2 - Traces/2022-08-26_vis/04-02-03/S2\"\n",
    "os.listdir(directory)"
   ]
  },
  {
   "cell_type": "code",
   "execution_count": 189,
   "id": "ff977698",
   "metadata": {},
   "outputs": [
    {
     "name": "stdout",
     "output_type": "stream",
     "text": [
      "['Amp_04-02-03_ROIs01to100.txt', 'Amp_04-02-03_ROIs101to166.txt', 'Decay_04-02-03_ROIs01to100.txt', 'Decay_04-02-03_ROIs101to166.txt', 'Halfwidth_04-02-03_ROIs01to100.txt', 'Halfwidth_04-02-03_ROIs101to166.txt', 'Latency_04-02-03_ROIs01to100.txt', 'Latency_04-02-03_ROIs101to166.txt', 'PeakTime_04-02-03_ROIs01to100.txt', 'PeakTime_04-02-03_ROIs101to166.txt', 'Rise_04-02-03_ROIs01to100.txt', 'Rise_04-02-03_ROIs101to166.txt', 'SNR_04-02-03_ROIs01to100.txt', 'SNR_04-02-03_ROIs101to166.txt']\n"
     ]
    }
   ],
   "source": [
    "#define sub-directory by combining with directory and displaying file list\n",
    "sub_directory_name = '04-02-03'\n",
    "sub_directory = directory +'/'\n",
    "##sub_directory = directory + sub_directory_name +'/'\n",
    "print(os.listdir(sub_directory))\n",
    "file_list = os.listdir(sub_directory)"
   ]
  },
  {
   "cell_type": "code",
   "execution_count": 190,
   "id": "5e8925e4",
   "metadata": {},
   "outputs": [],
   "source": [
    "#create dictionary which groups the relevent files in the sub-directory\n",
    "file_map = {}\n",
    "for file in file_list:\n",
    "    #splits the files up by '_' and lists them, then selects based on only the first index\n",
    "    prefix = file.split('_')[0]\n",
    "    if prefix not in file_map:\n",
    "        file_map[prefix] = []\n",
    "    file_map[prefix].append(file)"
   ]
  },
  {
   "cell_type": "code",
   "execution_count": 191,
   "id": "ce482b4e",
   "metadata": {},
   "outputs": [
    {
     "name": "stdout",
     "output_type": "stream",
     "text": [
      "{'Amp': ['Amp_04-02-03_ROIs01to100.txt', 'Amp_04-02-03_ROIs101to166.txt'], 'Decay': ['Decay_04-02-03_ROIs01to100.txt', 'Decay_04-02-03_ROIs101to166.txt'], 'Halfwidth': ['Halfwidth_04-02-03_ROIs01to100.txt', 'Halfwidth_04-02-03_ROIs101to166.txt'], 'Latency': ['Latency_04-02-03_ROIs01to100.txt', 'Latency_04-02-03_ROIs101to166.txt'], 'PeakTime': ['PeakTime_04-02-03_ROIs01to100.txt', 'PeakTime_04-02-03_ROIs101to166.txt'], 'Rise': ['Rise_04-02-03_ROIs01to100.txt', 'Rise_04-02-03_ROIs101to166.txt'], 'SNR': ['SNR_04-02-03_ROIs01to100.txt', 'SNR_04-02-03_ROIs101to166.txt']}\n"
     ]
    }
   ],
   "source": [
    "print(file_map)"
   ]
  },
  {
   "cell_type": "code",
   "execution_count": 192,
   "id": "dac5fb6d",
   "metadata": {
    "scrolled": false
   },
   "outputs": [],
   "source": [
    "for prefix in file_map:\n",
    "    sort_map = {}\n",
    "    for file in file_map[prefix]:\n",
    "        ROI_values = file.split('_')[2]\n",
    "        ROIs_start = ROI_values.split('to')[0][4:]\n",
    "        ROIs_start = int(ROIs_start)\n",
    "        sort_map[ROIs_start] = file \n",
    "    all_rois = []\n",
    "    sorted_keys = list(sort_map.keys())\n",
    "    sorted_keys.sort()\n",
    "    for key in sorted_keys:\n",
    "        file = sort_map[key]\n",
    "        # open the file for reading and append all the rois to all_rois.\n",
    "        fo = open(sub_directory+file, 'r')\n",
    "        file_lines = fo.readlines()\n",
    "        fo.close()\n",
    "        for line in file_lines:\n",
    "            par_values = line.split('\\t')[1]\n",
    "            par_values = float(par_values)\n",
    "            all_rois.append(par_values)\n",
    "    new_filename = prefix + '_'+sub_directory_name+'_ROIs01to'+str(len(all_rois))+'.txt'\n",
    "    fo = open(sub_directory+new_filename, 'w')\n",
    "    for roi_index in range(len(all_rois)):\n",
    "        if prefix == 'Amp':\n",
    "            all_rois[roi_index]/=1000\n",
    "        fo.write(str(roi_index+1)+'\\t'+str(all_rois[roi_index])[:10]+'\\n')\n",
    "    fo.close()\n",
    "    # open the new empty file for writing"
   ]
  },
  {
   "cell_type": "code",
   "execution_count": 130,
   "id": "58c76e07",
   "metadata": {},
   "outputs": [],
   "source": [
    "#itterate through prefixes \n",
    "#open files\n",
    "#re-index files\n",
    "#save with new name to sub-directory "
   ]
  },
  {
   "cell_type": "code",
   "execution_count": null,
   "id": "91b4d165",
   "metadata": {},
   "outputs": [],
   "source": []
  }
 ],
 "metadata": {
  "kernelspec": {
   "display_name": "Python 3 (ipykernel)",
   "language": "python",
   "name": "python3"
  },
  "language_info": {
   "codemirror_mode": {
    "name": "ipython",
    "version": 3
   },
   "file_extension": ".py",
   "mimetype": "text/x-python",
   "name": "python",
   "nbconvert_exporter": "python",
   "pygments_lexer": "ipython3",
   "version": "3.10.4"
  }
 },
 "nbformat": 4,
 "nbformat_minor": 5
}
